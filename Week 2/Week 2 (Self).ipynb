{
 "cells": [
  {
   "cell_type": "code",
   "execution_count": 2,
   "metadata": {},
   "outputs": [],
   "source": [
    "# All the imports\n",
    "import numpy as np"
   ]
  },
  {
   "cell_type": "code",
   "execution_count": 4,
   "metadata": {},
   "outputs": [
    {
     "data": {
      "text/plain": [
       "array([ 59. , 239. , 155.4,  76.9])"
      ]
     },
     "execution_count": 4,
     "metadata": {},
     "output_type": "execute_result"
    }
   ],
   "source": [
    "# Examples\n",
    "A=np.array([[56.0,0.0,4.4,68.0],\n",
    "           [1.2,104.0,52.0,8.0],\n",
    "           [1.8,135.0,99.0,0.9]])\n",
    "\n",
    "cal=A.sum(axis=0)\n",
    "cal"
   ]
  },
  {
   "cell_type": "code",
   "execution_count": 7,
   "metadata": {},
   "outputs": [
    {
     "data": {
      "text/plain": [
       "array([[94.91525424,  0.        ,  2.83140283, 88.42652796],\n",
       "       [ 2.03389831, 43.51464435, 33.46203346, 10.40312094],\n",
       "       [ 3.05084746, 56.48535565, 63.70656371,  1.17035111]])"
      ]
     },
     "execution_count": 7,
     "metadata": {},
     "output_type": "execute_result"
    }
   ],
   "source": [
    "percent=(A/cal)*100\n",
    "percent"
   ]
  },
  {
   "cell_type": "code",
   "execution_count": 11,
   "metadata": {},
   "outputs": [
    {
     "data": {
      "text/plain": [
       "array([[101],\n",
       "       [102],\n",
       "       [103],\n",
       "       [104],\n",
       "       [105]])"
      ]
     },
     "execution_count": 11,
     "metadata": {},
     "output_type": "execute_result"
    }
   ],
   "source": [
    "B=np.array([[1],[2],[3],[4],[5]])\n",
    "B=B+100 # Broadcasting- Python automatically converts the 100 into a vector of 4*1 and then does the addition.\n",
    "B"
   ]
  },
  {
   "cell_type": "code",
   "execution_count": 13,
   "metadata": {},
   "outputs": [
    {
     "data": {
      "text/plain": [
       "array([[101, 202, 303],\n",
       "       [104, 205, 306]])"
      ]
     },
     "execution_count": 13,
     "metadata": {},
     "output_type": "execute_result"
    }
   ],
   "source": [
    "C=np.array([[1,2,3],[4,5,6]])\n",
    "D=np.array([100,200,300])\n",
    "E=C+D # Python does the broadcasting and copies the 1st row of array D into a second row and then does the addition. \n",
    "E"
   ]
  },
  {
   "cell_type": "code",
   "execution_count": 17,
   "metadata": {},
   "outputs": [
    {
     "data": {
      "text/plain": [
       "array([[101, 102, 103],\n",
       "       [204, 205, 206]])"
      ]
     },
     "execution_count": 17,
     "metadata": {},
     "output_type": "execute_result"
    }
   ],
   "source": [
    "F=np.array([[1,2,3],[4,5,6]])\n",
    "G=np.array([[100],[200]])\n",
    "H=F+G # Same concept as above. \n",
    "H"
   ]
  },
  {
   "cell_type": "code",
   "execution_count": 31,
   "metadata": {},
   "outputs": [
    {
     "name": "stdout",
     "output_type": "stream",
     "text": [
      "(5,)\n",
      "[ 0.20958614 -1.4075999   0.98211433  0.80529716 -0.78244057]\n",
      "[ 0.20958614 -1.4075999   0.98211433  0.80529716 -0.78244057]\n",
      "4.250529127413454\n"
     ]
    }
   ],
   "source": [
    "a=np.random.randn(5)\n",
    "print(a.shape)\n",
    "print(a)\n",
    "print(a.T) \n",
    "print(np.dot(a,a.T))\n",
    "# We dont use structures where the shape is (n,) as it is not a column or a row vector. It is called rank 1 array."
   ]
  },
  {
   "cell_type": "code",
   "execution_count": 36,
   "metadata": {},
   "outputs": [
    {
     "name": "stdout",
     "output_type": "stream",
     "text": [
      "[[-1.36363973]\n",
      " [-0.45561182]\n",
      " [-1.80818783]\n",
      " [ 0.09508785]\n",
      " [-1.62553713]] \n",
      "\n",
      "[[ 1.85951331  0.62129038  2.46571677 -0.12966557  2.21664701]\n",
      " [ 0.62129038  0.20758213  0.82383175 -0.04332315  0.74061393]\n",
      " [ 2.46571677  0.82383175  3.26954324 -0.17193669  2.93927646]\n",
      " [-0.12966557 -0.04332315 -0.17193669  0.0090417  -0.15456882]\n",
      " [ 2.21664701  0.74061393  2.93927646 -0.15456882  2.64237095]]\n"
     ]
    }
   ],
   "source": [
    "a=np.random.randn(5,1)\n",
    "print(a,'\\n')\n",
    "print(np.dot(a,a.T))"
   ]
  },
  {
   "cell_type": "code",
   "execution_count": 39,
   "metadata": {},
   "outputs": [
    {
     "data": {
      "text/plain": [
       "(18,)"
      ]
     },
     "execution_count": 39,
     "metadata": {},
     "output_type": "execute_result"
    }
   ],
   "source": [
    "X=np.array([1,2,4,5,2,1,2,3,12,1,2,123,23,2,13,1,21,2])\n",
    "X.shape"
   ]
  }
 ],
 "metadata": {
  "kernelspec": {
   "display_name": "Python 3",
   "language": "python",
   "name": "python3"
  },
  "language_info": {
   "codemirror_mode": {
    "name": "ipython",
    "version": 3
   },
   "file_extension": ".py",
   "mimetype": "text/x-python",
   "name": "python",
   "nbconvert_exporter": "python",
   "pygments_lexer": "ipython3",
   "version": "3.7.1"
  }
 },
 "nbformat": 4,
 "nbformat_minor": 2
}
